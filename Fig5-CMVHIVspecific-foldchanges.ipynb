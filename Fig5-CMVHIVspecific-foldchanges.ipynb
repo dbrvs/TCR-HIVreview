{
 "cells": [
  {
   "cell_type": "code",
   "execution_count": 1,
   "metadata": {
    "collapsed": true
   },
   "outputs": [],
   "source": [
    "#!/usr/bin/python\n",
    "# updated DBR 02/2023 #\n",
    "\n",
    "%matplotlib inline\n",
    "\n",
    "import numpy as np\n",
    "import scipy.optimize as opt\n",
    "import scipy.stats as st\n",
    "import pandas as pd\n",
    "import matplotlib.pyplot as plt\n",
    "import matplotlib.cm as cm\n",
    "import seaborn as sns\n",
    "\n",
    "#for mixed effects models\n",
    "import statsmodels.api as sm\n",
    "import statsmodels.formula.api as smf\n",
    "\n",
    "import resource; resource.setrlimit(resource.RLIMIT_NOFILE, (1000,-1)) #allow many plots\n",
    "\n",
    "import os\n",
    "\n",
    "sns.set_style(\"ticks\")\n",
    "\n",
    "import warnings\n",
    "warnings.filterwarnings(action='once')\n"
   ]
  },
  {
   "cell_type": "code",
   "execution_count": 55,
   "metadata": {
    "collapsed": false
   },
   "outputs": [],
   "source": [
    "dfall=pd.read_csv('ecometrics_wprovirusrecalc.csv') #restricted to persistent clonotypes\n",
    "\n"
   ]
  },
  {
   "cell_type": "code",
   "execution_count": 38,
   "metadata": {
    "collapsed": false
   },
   "outputs": [],
   "source": [
    "#loop and calculate dataframes\n",
    "\n",
    "strict_only=False\n",
    "rcl=[]\n",
    "for ppt in ['22','583']:\n",
    "\n",
    "    CMVdf = pd.read_excel('Ag specific TCRs/Pt'+ppt+'-CMV.xlsx')\n",
    "    HIVdf = pd.read_excel('Ag specific TCRs/Pt'+ppt+'-HIV.xlsx')\n",
    "    CMVcdf = pd.read_excel('Ag specific TCRs/Pt'+ppt+'-control.xlsx',sheetname='CMV')\n",
    "    HIVcdf = pd.read_excel('Ag specific TCRs/Pt'+ppt+'-control.xlsx',sheetname='HIV')\n",
    "\n",
    "    #could restrict to strict... 'Strict or Loose or nonpos criteria'\n",
    "    if strict_only:\n",
    "        CMVdf=CMVdf[CMVdf['Strict or Loose or nonpos criteria']=='strict']\n",
    "        HIVdf=HIVdf[HIVdf['Strict or Loose or nonpos criteria']=='strict']\n",
    "\n",
    "    cmvl=[]; hivl=[]; tl=[]\n",
    "    for tp in range(3):\n",
    "\n",
    "        dfi = pd.read_csv('rawTCRdata/PWH'+ppt+'_t'+str(tp)+'.tsv', sep='\\t',\n",
    "                    usecols=['extended_rearrangement','templates','frame_type','cdr3_amino_acid'],low_memory=False).dropna()\n",
    "        \n",
    "        tl.append(dfall[dfall['pid']=='PWH'+ppt+'_t'+str(tp)]['mo_post_ART'].iloc[0])\n",
    "        \n",
    "        dfi = dfi.sort_values(by=['templates'],ascending=False)\n",
    "        dfi['tempr']=np.arange(len(dfi))+1\n",
    "        dfi['pa']=dfi['templates']/np.sum(dfi['templates'])\n",
    "\n",
    "        #now merge with virus specific lists\n",
    "        CMVonly=pd.merge(dfi, CMVdf, how='inner', on=['cdr3_amino_acid']) #the intersection\n",
    "        HIVonly=pd.merge(dfi, HIVdf, how='inner', on=['cdr3_amino_acid']) #the intersection\n",
    "\n",
    "        cmvl.append(CMVonly)\n",
    "        hivl.append(HIVonly)\n",
    "\n",
    "    #dataframes that collect templates from 2 time points for both viruses\n",
    "\n",
    "    Cdt01 = pd.merge(cmvl[0], cmvl[1], how='inner', on=['extended_rearrangement'])\n",
    "    Cdt12 = pd.merge(cmvl[1], cmvl[2], how='inner', on=['extended_rearrangement'])\n",
    "\n",
    "    Hdt01 = pd.merge(hivl[0], hivl[1], how='inner', on=['extended_rearrangement'])\n",
    "    Hdt12 = pd.merge(hivl[1], hivl[2], how='inner', on=['extended_rearrangement'])\n",
    "\n",
    "    rcdfC = (Cdt12['pa_x']-Cdt12['pa_y'])/Cdt01['pa_x'] #change relative to original pa\n",
    "    rcdfH = (Hdt12['pa_x']-Hdt12['pa_y'])/Cdt01['pa_x']\n",
    "\n",
    "    rcC = rcdfC.dropna()/(tl[2]-tl[1]) #rate change\n",
    "    rcH = rcdfH.dropna()/(tl[2]-tl[1]) #rate change\n",
    "\n",
    "    rcl.append([rcC.values,rcH.values])"
   ]
  },
  {
   "cell_type": "code",
   "execution_count": 54,
   "metadata": {
    "collapsed": false
   },
   "outputs": [
    {
     "data": {
      "text/plain": [
       "<matplotlib.lines.Line2D at 0x7f8b9d1f4710>"
      ]
     },
     "execution_count": 54,
     "metadata": {},
     "output_type": "execute_result"
    },
    {
     "data": {
      "image/png": "[encoded data removed]",
      "text/plain": [
       "<matplotlib.figure.Figure at 0x7f8b9d1f45f8>"
      ]
     },
     "metadata": {},
     "output_type": "display_data"
    }
   ],
   "source": [
    "plt.boxplot([rcl[0][0],rcl[0][1],rcl[1][0],rcl[1][1]])\n",
    "\n",
    "plt.axhline(-np.log(2)/44)"
   ]
  },
  {
   "cell_type": "code",
   "execution_count": 53,
   "metadata": {
    "collapsed": false
   },
   "outputs": [
    {
     "name": "stdout",
     "output_type": "stream",
     "text": [
      "CMV -0.015630371732489677 0.027149217208730498\n",
      "HIV -0.0030301935182166476 0.004686757616797171\n"
     ]
    }
   ],
   "source": [
    "#CMV rates\n",
    "print('CMV',np.mean(np.append(rcl[0][0],rcl[1][0])),np.std(np.append(rcl[0][0],rcl[1][0])))\n",
    "\n",
    "#HIV rates\n",
    "print('HIV',np.mean(np.append(rcl[0][1],rcl[1][1])),np.std(np.append(rcl[0][1],rcl[1][1])))"
   ]
  },
  {
   "cell_type": "code",
   "execution_count": null,
   "metadata": {
    "collapsed": true
   },
   "outputs": [],
   "source": []
  }
 ],
 "metadata": {
  "kernelspec": {
   "display_name": "Python 3",
   "language": "python",
   "name": "python3"
  },
  "language_info": {
   "codemirror_mode": {
    "name": "ipython",
    "version": 3
   },
   "file_extension": ".py",
   "mimetype": "text/x-python",
   "name": "python",
   "nbconvert_exporter": "python",
   "pygments_lexer": "ipython3",
   "version": "3.6.0"
  }
 },
 "nbformat": 4,
 "nbformat_minor": 2
}
