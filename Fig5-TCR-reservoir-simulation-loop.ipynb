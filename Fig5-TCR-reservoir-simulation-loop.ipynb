{
 "cells": [
  {
   "cell_type": "code",
   "execution_count": 1,
   "metadata": {
    "collapsed": true
   },
   "outputs": [],
   "source": [
    "#!/usr/bin/python\n",
    "# updated DBR 11/2023 #\n",
    "\n",
    "%matplotlib inline\n",
    "\n",
    "import numpy as np\n",
    "import scipy.stats as st\n",
    "import pandas as pd\n",
    "import matplotlib.pyplot as plt\n",
    "import matplotlib.cm as cm\n",
    "import seaborn as sns\n",
    "\n",
    "import resource; resource.setrlimit(resource.RLIMIT_NOFILE, (1000,-1)) #allow many plots\n",
    "\n",
    "import os\n",
    "\n",
    "sns.set_style(\"ticks\")\n",
    "\n",
    "import warnings\n",
    "warnings.filterwarnings(action='once')\n"
   ]
  },
  {
   "cell_type": "code",
   "execution_count": 2,
   "metadata": {
    "collapsed": true
   },
   "outputs": [],
   "source": [
    "#first do the experiment on those without TN\n",
    "\n",
    "PWH_ppts = ['PWH22','PWH548','PWH746','PWH583',]\n",
    "ctl_ppts = ['MACS14173','MACS10136','MACS13042','WIHS',]\n",
    "\n",
    "PWH_cz=['salmon','peru','tab:red','maroon',]#,'firebrick']\n",
    "ctl_cz=['lightblue','teal','tab:blue','navy']#,'turquoise']\n"
   ]
  },
  {
   "cell_type": "code",
   "execution_count": 3,
   "metadata": {},
   "outputs": [
    {
     "data": {
      "text/plain": [
       "Index(['Unnamed: 0', 'pid', 'Age', 'Male', 'CMVstatus', 'mo_post_ART',\n",
       "       'study_months', 'CD4', 'Nadir CD4', 'mo_pre_ART', 'race', 'cohort',\n",
       "       'cohort_num', 'HIVstatus', 'initial_N', 'resample_size_TCR',\n",
       "       'resample_size_HIV', 'color', 'nonsingleton_R', 'R', 'D1', 'D2', 'cmax',\n",
       "       'c10', 'cfrac', 'RH', 'D1H', 'D2H', 'cmaxH', 'c10H', 'cfracH', 'RMS1',\n",
       "       'al', 'RMS2', 'alpha1', 'alpha2', 'phi', 'cp', 'nonsingleton_Rr', 'Rr',\n",
       "       'D1r', 'D2r', 'cmaxr', 'c10r', 'cfracr', 'RHr', 'D1Hr', 'D2Hr',\n",
       "       'cmaxHr', 'c10Hr', 'cfracHr', 'RMS1r', 'alr', 'RMS2r', 'alpha1r',\n",
       "       'alpha2r', 'phir', 'NHIV', 'nonsingleton_RHIV', 'RHIV', 'D1HIV',\n",
       "       'D2HIV', 'cmaxHIV', 'c10HIV', 'cfracHIV', 'RMS1HIV', 'alHIV', 'RMS2HIV',\n",
       "       'alpha1HIV', 'alpha2HIV', 'phiHIV', 'alHIVsample'],\n",
       "      dtype='object')"
      ]
     },
     "execution_count": 3,
     "metadata": {},
     "output_type": "execute_result"
    }
   ],
   "source": [
    "dfall=pd.read_csv('ecometrics_wprovirusrecalc.csv') #restricted to persistent clonotypes\n",
    "dfall.columns"
   ]
  },
  {
   "cell_type": "code",
   "execution_count": 4,
   "metadata": {},
   "outputs": [
    {
     "name": "stdout",
     "output_type": "stream",
     "text": [
      "MACS14173 0 1428\n",
      "MACS14173 1 1457\n",
      "MACS14173 2 1428\n",
      "MACS14173 3 1426\n",
      "MACS14173 4 1426\n",
      "MACS14173 5 1426\n",
      "MACS14173 6 1426\n",
      "MACS14173 7 1434\n",
      "MACS14173 8 1427\n",
      "MACS14173 9 1426\n",
      "MACS10136 0 315\n",
      "MACS10136 1 315\n",
      "MACS10136 2 315\n",
      "MACS10136 3 315\n",
      "MACS10136 4 315\n",
      "MACS10136 5 315\n",
      "MACS10136 6 315\n",
      "MACS10136 7 315\n",
      "MACS10136 8 318\n",
      "MACS10136 9 315\n",
      "MACS13042 0 1527\n",
      "MACS13042 1 1488\n",
      "MACS13042 2 1492\n",
      "MACS13042 3 1490\n",
      "MACS13042 4 1488\n",
      "MACS13042 5 1520\n",
      "MACS13042 6 1494\n",
      "MACS13042 7 1488\n",
      "MACS13042 8 1489\n",
      "MACS13042 9 1488\n",
      "WIHS 0 789\n",
      "WIHS 1 758\n",
      "WIHS 2 758\n",
      "WIHS 3 758\n",
      "WIHS 4 758\n",
      "WIHS 5 758\n",
      "WIHS 6 759\n",
      "WIHS 7 758\n",
      "WIHS 8 759\n",
      "WIHS 9 758\n"
     ]
    }
   ],
   "source": [
    "nbs=10 #number of boostraps per ppt\n",
    "\n",
    "#loop over participants\n",
    "bigl=[]\n",
    "for pid in ctl_ppts:\n",
    "    #pick a ppt\n",
    "    #pid = 'MACS14173'\n",
    "    df0 = pd.read_csv('cleanTCRdata/'+pid+'_t0.csv') #note this hasn't been downsampled yet\n",
    "\n",
    "    N=sum(df0['templates'])\n",
    "    cHIV = np.round(N*(800+3000)*1e-6) #cells with all HIV\n",
    "\n",
    "    df0['pa0']=df0['templates']/N #add proportional abundances\n",
    "\n",
    "    #now loop and bootstrap\n",
    "    Dtotl=[]\n",
    "    for bs in range(nbs):\n",
    "        #get a random sample of their TCR from t0\n",
    "        #first assume that clonotypes are completely filled\n",
    "        c=0\n",
    "        HIVdf=pd.DataFrame()\n",
    "        while c<cHIV*1.1: #with a little wiggle room\n",
    "            iTCR = np.random.randint(len(df0))\n",
    "            HIVdf=HIVdf.append(df0.iloc[iTCR])\n",
    "            c += df0['templates'].iloc[iTCR]\n",
    "\n",
    "        print(pid,bs,c)\n",
    "        #now look for these TCRb in the later time point files\n",
    "\n",
    "        df1 = pd.read_csv('TM+TN/'+pid+'_t1.tsv',sep='\\t',\n",
    "                          usecols=['extended_rearrangement','cdr3_amino_acid','templates','frame_type'],low_memory=False).dropna()\n",
    "        df1=df1[df1['frame_type']=='In'] #restrict to only in frame rearrangements\n",
    "        df1['pa1']=df1['templates']/np.sum(df1['templates']) #add column for proportional abundances\n",
    "\n",
    "        df2 = pd.read_csv('TM+TN/'+pid+'_t2.tsv',sep='\\t',\n",
    "                          usecols=['extended_rearrangement','cdr3_amino_acid','templates','frame_type'],low_memory=False).dropna()\n",
    "        df2=df2[df2['frame_type']=='In'] #restrict to only in frame rearrangements\n",
    "        df2['pa2']=df2['templates']/np.sum(df2['templates']) #add column for proportional abundances\n",
    "\n",
    "        #merge together \"left\" meaning keep all the TCRb from t0 and then make zeros if not found again\n",
    "\n",
    "        df01 = pd.merge(HIVdf, df1, how='left', on=['extended_rearrangement'])\n",
    "        df012 = pd.merge(df01, df2, how='left', on=['extended_rearrangement'])\n",
    "        df012 = df012.rename(columns={'templates_x': 'counts_t0', 'templates_y': 'counts_t1', 'templates': 'counts_t2'})\n",
    "        df012 = df012[['extended_rearrangement','counts_t0','counts_t1','counts_t2','pa0','pa1','pa2']].fillna(0)\n",
    "    \n",
    "        Dtot=df012[['pa1','pa2']].sum().values\n",
    "        #Dtot=all_df[['counts_t1','counts_t2']].sum().values\n",
    "        Dtotl.append(Dtot)\n",
    "\n",
    "    bigl.append(Dtotl)"
   ]
  },
  {
   "cell_type": "code",
   "execution_count": 7,
   "metadata": {},
   "outputs": [
    {
     "data": {
      "image/png": "[encoded data removed]",
      "text/plain": [
       "<matplotlib.figure.Figure at 0x7fdf53173400>"
      ]
     },
     "metadata": {},
     "output_type": "display_data"
    }
   ],
   "source": [
    "#get mean and std half-lives (or decay rates)\n",
    "plt.figure(figsize=(4,3))\n",
    "\n",
    "mhl=[]; shl=[]\n",
    "mr=[]; sr=[]\n",
    "for ip,pid in enumerate(ctl_ppts):\n",
    "\n",
    "    #note true time points\n",
    "    t1=dfall[dfall['pid']==pid+'_t1']['study_months'].values\n",
    "    t2=dfall[dfall['pid']==pid+'_t2']['study_months'].values\n",
    "\n",
    "    cz=dfall[dfall['pid']==pid+'_t1']['color'].iloc[0]\n",
    "    \n",
    "    for bs in range(nbs):\n",
    "        plt.semilogy([t1,t2],bigl[ip][bs]*1e6,marker='o',color=cz,alpha=0.5)\n",
    "    \n",
    "    dr=(np.log(np.array(bigl[ip])[:,1]/np.array(bigl[ip])[:,0])/(t2-t1)) #decay rate\n",
    "    hl=-np.log(2)/(np.log(np.array(bigl[ip])[:,1]/np.array(bigl[ip])[:,0])/(t2-t1))\n",
    "\n",
    "    mhl.append(np.mean(hl))\n",
    "    shl.append(np.std(hl))\n",
    "    \n",
    "    mr.append(np.mean(dr))\n",
    "    sr.append(np.std(dr))\n",
    "    \n",
    "plt.ylim(100,1e4)\n",
    "plt.xlabel('Time (years after ART)')\n",
    "plt.ylabel('Simulated HIV DNA \\n (per million CD4)')\n",
    "plt.tight_layout()\n",
    "plt.savefig('figures/simIPDA-traces.pdf')\n"
   ]
  },
  {
   "cell_type": "code",
   "execution_count": 9,
   "metadata": {
    "collapsed": true
   },
   "outputs": [],
   "source": [
    "#data for summary\n",
    "inthl=-np.log(2)/np.array([32,18,141])\n",
    "defhl=-np.log(2)/np.array([161,28,1000])\n",
    "\n",
    "#PWHm=np.mean(mr)\n",
    "#PWHs=np.mean(sr)\n",
    "\n",
    "Ctlm=np.mean(mr)\n",
    "Ctls=np.mean(sr)\n"
   ]
  },
  {
   "cell_type": "code",
   "execution_count": 16,
   "metadata": {},
   "outputs": [
    {
     "data": {
      "image/png": "[encoded data removed]",
      "text/plain": [
       "<matplotlib.figure.Figure at 0x7fdf5d3d2128>"
      ]
     },
     "metadata": {},
     "output_type": "display_data"
    }
   ],
   "source": [
    "#plot results of rate changes vs IPDA decay and virus specific\n",
    "    \n",
    "plt.figure(figsize=(4,3))\n",
    "\n",
    "#intact\n",
    "plt.scatter(inthl[0],1,color='magenta')\n",
    "plt.plot([inthl[1],inthl[2]],[1,1],c='magenta')\n",
    "\n",
    "#defective\n",
    "plt.scatter(defhl[0],2,color='indigo')\n",
    "plt.plot([defhl[1],defhl[2]],[2,2],c='indigo')\n",
    "\n",
    "#PWH TCR decays\n",
    "#plt.scatter(PWHm,3,color='maroon',marker='o')\n",
    "#plt.plot([PWHm-2*PWHs,PWHm+2*PWHs],[3,3],color='tab:red',lw=2)\n",
    "\n",
    "#Ctl TCR decays\n",
    "plt.scatter(Ctlm,3,color='tab:blue',marker='o')\n",
    "plt.plot([Ctlm-2*Ctls,Ctlm+2*Ctls],[3,3],color='tab:blue',lw=2)\n",
    "\n",
    "CMVm=-0.015630371732489677\n",
    "CMVs= 0.027149217208730498\n",
    "HIVm=-0.0030301935182166476\n",
    "HIVs=0.004686757616797171\n",
    "\n",
    "#CMV specific TCR decays\n",
    "plt.scatter(CMVm,4,color='red',marker='o')\n",
    "plt.plot([CMVm-2*CMVs,CMVm+2*CMVs],[4,4],color='red',lw=2)\n",
    "\n",
    "#HIV specific TCR decays\n",
    "plt.scatter(HIVm,5,color='k',marker='o')\n",
    "plt.plot([HIVm-2*HIVs,HIVm+2*HIVs],[5,5],color='k',lw=2)\n",
    "\n",
    "plt.xlabel('Decay rate (per month)')\n",
    "plt.axvline(0,color='k',ls='--',alpha=0.5)\n",
    "#plt.axvline(2.5,color='gray',alpha=0.3)\n",
    "\n",
    "#plt.yticks(np.arange(4)+1,['Intact \\n HIV DNA','Defective \\n HIV DNA',\n",
    "#                           'rmCD4+ \\n TCR \\n (PWH)','rmCD4+ \\n TCR \\n (Ctl)'],rotation=0)\n",
    "\n",
    "plt.yticks(np.arange(5)+1,['Intact \\n HIV DNA','Defective \\n HIV DNA',\n",
    "                           'rmCD4+ \\n TCRβ (Ctl)',\n",
    "                          'CMV specific \\n TCRβ','HIV specific \\n TCRβ'],rotation=0)\n",
    "\n",
    "\n",
    "#plt.ylim([0.5,4.5])\n",
    "plt.xlim([-0.05,0.01])\n",
    "\n",
    "plt.tight_layout()    \n",
    "plt.savefig('figures/simIPDA-summary.pdf',dpi=600)\n",
    "\n"
   ]
  },
  {
   "cell_type": "code",
   "execution_count": 22,
   "metadata": {},
   "outputs": [
    {
     "name": "stdout",
     "output_type": "stream",
     "text": [
      "0.0665443592288306 0.3738558970461561\n"
     ]
    }
   ],
   "source": [
    "#stats on whether intact and defective from TCR\n",
    "print(st.norm.pdf((inthl[2]-Ctlm)/Ctls),st.norm.pdf((defhl[2]-Ctlm)/Ctls))"
   ]
  },
  {
   "cell_type": "code",
   "execution_count": null,
   "metadata": {
    "collapsed": true
   },
   "outputs": [],
   "source": [
    "#get sd from lower 95%\n",
    "#int=m-2*sd\n",
    "#(m-int)/2"
   ]
  },
  {
   "cell_type": "code",
   "execution_count": 19,
   "metadata": {},
   "outputs": [
    {
     "name": "stdout",
     "output_type": "stream",
     "text": [
      "0.024586428800553395 0.023759994264977474\n"
     ]
    }
   ],
   "source": [
    "#stats on whether TCR from intact\n",
    "sdl=(inthl[0]-inthl[1])/1.96\n",
    "sdu=(inthl[0]-inthl[2])/1.96\n",
    "\n",
    "print(\n",
    "    st.norm.pdf((Ctlm-inthl[0])/sdl),\n",
    "    st.norm.pdf((Ctlm-inthl[0])/sdu))"
   ]
  },
  {
   "cell_type": "code",
   "execution_count": 20,
   "metadata": {},
   "outputs": [
    {
     "name": "stdout",
     "output_type": "stream",
     "text": [
      "0.3834496714547429 0.11208589070007112\n"
     ]
    }
   ],
   "source": [
    "#stats on whether TCR from defective\n",
    "sdl=(defhl[0]-defhl[1])/1.96\n",
    "sdu=(defhl[0]-defhl[2])/1.96\n",
    "\n",
    "print(\n",
    "    st.norm.pdf((Ctlm-defhl[0])/sdl),\n",
    "    st.norm.pdf((Ctlm-defhl[0])/sdu))"
   ]
  },
  {
   "cell_type": "code",
   "execution_count": null,
   "metadata": {},
   "outputs": [],
   "source": [
    "PWHm"
   ]
  },
  {
   "cell_type": "code",
   "execution_count": null,
   "metadata": {
    "collapsed": true
   },
   "outputs": [],
   "source": []
  }
 ],
 "metadata": {
  "kernelspec": {
   "display_name": "Python 3 (ipykernel)",
   "language": "python",
   "name": "python3"
  },
  "language_info": {
   "codemirror_mode": {
    "name": "ipython",
    "version": 3
   },
   "file_extension": ".py",
   "mimetype": "text/x-python",
   "name": "python",
   "nbconvert_exporter": "python",
   "pygments_lexer": "ipython3",
   "version": "3.11.5"
  }
 },
 "nbformat": 4,
 "nbformat_minor": 2
}
