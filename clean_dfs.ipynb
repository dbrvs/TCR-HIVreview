{
 "cells": [
  {
   "cell_type": "code",
   "execution_count": 1,
   "metadata": {},
   "outputs": [],
   "source": [
    "#!/usr/bin/python\n",
    "# updated DBR 04/2023 #\n",
    "\n",
    "import numpy as np\n",
    "import pandas as pd\n",
    "import os\n",
    "import scipy.optimize as opt #for power law fitting\n",
    "import matplotlib.pyplot as plt\n",
    "\n",
    "import warnings\n",
    "warnings.filterwarnings(action='once')\n"
   ]
  },
  {
   "cell_type": "code",
   "execution_count": 8,
   "metadata": {},
   "outputs": [],
   "source": [
    "#function that cleans up TCR data and does the unions/intersections etc\n",
    "#this doesn't do any resampling yet\n",
    "\n",
    "def make_good_df(fn,restrict_persistent_TCR):\n",
    "\n",
    "    pid=fn.split('.')[0] #get the participant full id\n",
    "    spid=pid.split('_')[0] #get the participant short id, no timepoint\n",
    "    pid_tp='t0'\n",
    "    if '_' in pid:\n",
    "        pid_tp = pid.split('_')[1]\n",
    "\n",
    "    #deal with some longitudinal, keep only persistent among t1 and t2s\n",
    "    if pid_tp=='t0':\n",
    "        df0 = pd.read_csv('rawTCRdata/'+fn, sep='\\t',\n",
    "                         usecols=['extended_rearrangement','cdr3_amino_acid','templates','frame_type'],low_memory=False).dropna()\n",
    "        good_df=df0[df0['frame_type']=='In'] #restrict to only in frame rearrangements\n",
    "\n",
    "    else:\n",
    "        t0fn = pid.split('_')[0]+'_t0.tsv' #get the zero fn\n",
    "\n",
    "        #read the current timepoint ti\n",
    "        dfi = pd.read_csv('rawTCRdata/'+fn, sep='\\t',\n",
    "                          usecols=['extended_rearrangement','cdr3_amino_acid','templates','frame_type'],low_memory=False).dropna()        \n",
    "        dfi=dfi[dfi['frame_type']=='In'] #restrict to only in frame rearrangements\n",
    "\n",
    "        if restrict_persistent_TCR:\n",
    "            #also read the zero fn\n",
    "            df0 = pd.read_csv('rawTCRdata/'+t0fn, sep='\\t',\n",
    "                         usecols=['extended_rearrangement','cdr3_amino_acid','templates','frame_type'],low_memory=False).dropna()\n",
    "            df0=df0[df0['frame_type']=='In'] #restrict to only in frame rearrangements\n",
    "\n",
    "            union_df = pd.merge(df0, dfi, how='outer', on=['extended_rearrangement']) #the union of all TCR\n",
    "            union_df = union_df.fillna(0) #fill all zeros\n",
    "\n",
    "            persistent_dfi = union_df[union_df['templates_x']>0] #restrict to TCR found at t0\n",
    "            good_df = persistent_dfi[['extended_rearrangement','templates_y','frame_type_y']]  \n",
    "            good_df = good_df.rename(columns={'templates_y':'templates'})\n",
    "            good_df = good_df[good_df['frame_type_y']=='In']\n",
    "        else: #if not restricted\n",
    "            good_df=dfi\n",
    "            \n",
    "    return pid,good_df\n"
   ]
  },
  {
   "cell_type": "code",
   "execution_count": 3,
   "metadata": {},
   "outputs": [],
   "source": [
    "#loop through all ppts, print clean dataframes to csv using function above\n",
    "\n",
    "#get all filenames in this folder\n",
    "\n",
    "fns = os.listdir('rawTCRdata/')\n",
    "fns.remove('.DS_Store') #drop hidden file\n",
    "fns.remove('excluded') #drop this folder\n",
    "fns.sort()\n",
    "\n",
    "Nl=[]\n",
    "for i,fn in enumerate(fns):\n",
    "    pid,good_df = make_good_df(fn,restrict_persistent_TCR=False)\n",
    "    good_df[['extended_rearrangement','cdr3_amino_acid','templates']].to_csv('cleanTCRdata/'+pid+'.csv') #output the clean data, note this hasn't been downsampled yet\n",
    "\n",
    "    Nl.append(np.sum(good_df['templates'])) #keep track of original N\n",
    "    \n",
    "#print(np.gmean(Nl))"
   ]
  },
  {
   "cell_type": "code",
   "execution_count": 4,
   "metadata": {},
   "outputs": [
    {
     "name": "stdout",
     "output_type": "stream",
     "text": [
      "4.926304672482832 0.2690675429776805\n"
     ]
    }
   ],
   "source": [
    "print(np.mean(np.log10(Nl)),np.std(np.log10(Nl)))"
   ]
  },
  {
   "cell_type": "code",
   "execution_count": 9,
   "metadata": {},
   "outputs": [],
   "source": [
    "#for just the multi-time participants, make \"restricted\" data frames\n",
    "Nlr=[]\n",
    "\n",
    "#not using PWH122 and MACS14218\n",
    "PWH_ppts = ['PWH22','PWH548','PWH583','PWH746']\n",
    "ctl_ppts = ['MACS10136','MACS13042','MACS14173','WIHS']\n",
    "\n",
    "for ppt in PWH_ppts+ctl_ppts:\n",
    "    for tp in [1,2]:\n",
    "        fn=ppt+'_t'+str(tp)+'.tsv'\n",
    "        pid,good_df = make_good_df(fn,restrict_persistent_TCR=True)\n",
    "        good_df[['extended_rearrangement','templates']].to_csv('cleanTCRdata/restricted/'+pid+'.csv') #output the clean data, note this hasn't been downsampled yet\n",
    "        Nlr.append(np.sum(good_df['templates'])) #keep track of original N\n",
    "\n"
   ]
  },
  {
   "cell_type": "code",
   "execution_count": 10,
   "metadata": {},
   "outputs": [
    {
     "name": "stdout",
     "output_type": "stream",
     "text": [
      "4.447572135444368 0.4071273484492284\n"
     ]
    }
   ],
   "source": [
    "print(np.mean(np.log10(Nlr)),np.std(np.log10(Nlr)))"
   ]
  },
  {
   "cell_type": "code",
   "execution_count": null,
   "metadata": {
    "collapsed": true
   },
   "outputs": [],
   "source": []
  }
 ],
 "metadata": {
  "kernelspec": {
   "display_name": "Python 3 (ipykernel)",
   "language": "python",
   "name": "python3"
  },
  "language_info": {
   "codemirror_mode": {
    "name": "ipython",
    "version": 3
   },
   "file_extension": ".py",
   "mimetype": "text/x-python",
   "name": "python",
   "nbconvert_exporter": "python",
   "pygments_lexer": "ipython3",
   "version": "3.11.5"
  }
 },
 "nbformat": 4,
 "nbformat_minor": 2
}
